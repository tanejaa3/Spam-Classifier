{
 "cells": [
  {
   "cell_type": "code",
   "execution_count": null,
   "metadata": {},
   "outputs": [],
   "source": [
    "# Importing ML Libraries\n",
    "import pandas as pd\n",
    "import numpy as np\n",
    "\n",
    "import warnings\n",
    "warnings.filterwarnings('ignore')"
   ]
  },
  {
   "cell_type": "code",
   "execution_count": null,
   "metadata": {},
   "outputs": [],
   "source": [
    "# Importing req libraries\n",
    "import keras\n",
    "import nltk\n",
    "import re\n",
    "\n",
    "from keras.preprocessing.text import Tokenizer\n",
    "from keras.preprocessing.sequence import pad_sequences\n",
    "from keras.layers import Dense,Embedding,GlobalAveragePooling1D,Flatten,LSTM\n",
    "from keras.models import Sequential\n",
    "\n",
    "from nltk.corpus import stopwords\n",
    "from nltk.stem import PorterStemmer,WordNetLemmatizer\n",
    "\n",
    "from sklearn.feature_extraction.text import CountVectorizer,TfidfVectorizer\n",
    "from sklearn.naive_bayes import MultinomialNB\n",
    "from sklearn.model_selection import train_test_split\n",
    "from sklearn.metrics import accuracy_score,confusion_matrix,classification_report"
   ]
  },
  {
   "cell_type": "code",
   "execution_count": null,
   "metadata": {},
   "outputs": [],
   "source": [
    "# Importig Data\n",
    "df = pd.read_csv('Data.txt',sep='\\t',header=None)"
   ]
  },
  {
   "cell_type": "code",
   "execution_count": null,
   "metadata": {},
   "outputs": [],
   "source": [
    "df.head()"
   ]
  },
  {
   "cell_type": "code",
   "execution_count": null,
   "metadata": {},
   "outputs": [],
   "source": [
    "# Data Cleaning\n",
    "\n",
    "X = df[1].values\n",
    "eng_word = set(stopwords.words('english'))\n",
    "porter_stemmer = PorterStemmer()\n",
    "\n",
    "corpus=[]\n",
    "for i in range(len(X)):\n",
    "    review = re.sub('[^a-zA-Z]',' ',X[i])\n",
    "    review = review.lower()\n",
    "    review = review.split()\n",
    "    review = [porter_stemmer.stem(word) for word in review if word not in eng_word]\n",
    "    review = ' '.join(review)\n",
    "    corpus.append(review)"
   ]
  },
  {
   "cell_type": "code",
   "execution_count": null,
   "metadata": {},
   "outputs": [],
   "source": []
  },
  {
   "cell_type": "code",
   "execution_count": null,
   "metadata": {},
   "outputs": [],
   "source": [
    "# Bag of Words and Naive's Bayes\n",
    "cv = CountVectorizer()\n",
    "corpus_cv = cv.fit_transform(corpus).toarray()\n",
    "\n",
    "xtrain,xtest,ytrain,ytest = train_test_split(corpus_cv,df[0],test_size=0.3,random_state=0)\n",
    "\n",
    "nb = MultinomialNB()\n",
    "nb = nb.fit(xtrain,ytrain)\n",
    "pred_nb = nb.predict(xtest)\n",
    "\n",
    "print(accuracy_score(ytest,pred_nb))\n",
    "print('\\n')\n",
    "print(confusion_matrix(ytest,pred_nb))"
   ]
  },
  {
   "cell_type": "code",
   "execution_count": null,
   "metadata": {},
   "outputs": [],
   "source": [
    "# Tf-Idf and Naive Bayes\n",
    "\n",
    "tf_idf = TfidfVectorizer()\n",
    "corpus_tf = tf_idf.fit_transform(corpus).toarray()\n",
    "\n",
    "xtrain,xtest,ytrain,ytest = train_test_split(corpus_tf,df[0],test_size=0.3,random_state=0)\n",
    "\n",
    "nb = MultinomialNB()\n",
    "nb = nb.fit(xtrain,ytrain)\n",
    "pred_nb = nb.predict(xtest)\n",
    "\n",
    "print(accuracy_score(ytest,pred_nb))\n",
    "print('\\n')\n",
    "print(confusion_matrix(ytest,pred_nb))"
   ]
  },
  {
   "cell_type": "code",
   "execution_count": null,
   "metadata": {},
   "outputs": [],
   "source": [
    "# Word-Embedding\n",
    "\n",
    "tokenizer = Tokenizer(oov_token='<oov>')\n",
    "tokenizer.fit_on_texts(corpus)\n",
    "word_index = tokenizer.word_index\n",
    "\n",
    "sequence = tokenizer.texts_to_sequences(corpus)\n",
    "padded_seq  = pad_sequences(sequence)\n",
    "\n",
    "xtrain,xtest,ytrain,ytest = train_test_split(padded_seq,df[0].map({'ham':0,'spam':1}),test_size=0.3,random_state=0)"
   ]
  },
  {
   "cell_type": "code",
   "execution_count": null,
   "metadata": {},
   "outputs": [],
   "source": [
    "# LSTM apply\n",
    "vocab_size=10000\n",
    "embedding_dim = 64\n",
    "max_length = 77\n",
    "\n",
    "model = Sequential()\n",
    "model.add(Embedding(vocab_size,embedding_dim,input_length=max_length))\n",
    "model.add(LSTM(units=70,activation='relu'))\n",
    "model.add(Dense(units=1,activation='sigmoid'))\n",
    "model.compile(optimizer='adam',loss='binary_crossentropy',metrics=['accuracy'])"
   ]
  },
  {
   "cell_type": "code",
   "execution_count": null,
   "metadata": {},
   "outputs": [],
   "source": [
    "model.summary()"
   ]
  },
  {
   "cell_type": "code",
   "execution_count": null,
   "metadata": {},
   "outputs": [],
   "source": [
    "history = model.fit(xtrain,ytrain,batch_size=32,epochs=15)"
   ]
  },
  {
   "cell_type": "code",
   "execution_count": null,
   "metadata": {},
   "outputs": [],
   "source": [
    "plt.figure(figsize=(10,5))\n",
    "plt.plot(history.history['accuracy'])"
   ]
  },
  {
   "cell_type": "code",
   "execution_count": null,
   "metadata": {},
   "outputs": [],
   "source": [
    "pred_ann = model.predict(xtest)\n",
    "pred_ann = pred_ann>0.5"
   ]
  },
  {
   "cell_type": "code",
   "execution_count": null,
   "metadata": {},
   "outputs": [],
   "source": [
    "# Final results\n",
    "print(accuracy_score(ytest,pred_ann))\n",
    "print('\\n')\n",
    "print(confusion_matrix(ytest,pred_ann))"
   ]
  }
 ],
 "metadata": {
  "kernelspec": {
   "display_name": "Python 3",
   "language": "python",
   "name": "python3"
  },
  "language_info": {
   "codemirror_mode": {
    "name": "ipython",
    "version": 3
   },
   "file_extension": ".py",
   "mimetype": "text/x-python",
   "name": "python",
   "nbconvert_exporter": "python",
   "pygments_lexer": "ipython3",
   "version": "3.7.4"
  }
 },
 "nbformat": 4,
 "nbformat_minor": 2
}
